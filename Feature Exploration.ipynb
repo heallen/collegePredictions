{
 "cells": [
  {
   "cell_type": "code",
   "execution_count": 1,
   "metadata": {},
   "outputs": [],
   "source": [
    "import pickle\n",
    "import pandas as pd\n",
    "import numpy as np\n",
    "# import matplotlib\n",
    "# matplotlib.use('TkAgg')\n",
    "import matplotlib.pyplot as plt\n",
    "%matplotlib inline\n"
   ]
  },
  {
   "cell_type": "code",
   "execution_count": 2,
   "metadata": {},
   "outputs": [],
   "source": [
    "def binary_decision(dec):\n",
    "    if dec == 'A':return 1\n",
    "    else: return 0"
   ]
  },
  {
   "cell_type": "code",
   "execution_count": 3,
   "metadata": {},
   "outputs": [
    {
     "data": {
      "text/html": [
       "<div>\n",
       "<style scoped>\n",
       "    .dataframe tbody tr th:only-of-type {\n",
       "        vertical-align: middle;\n",
       "    }\n",
       "\n",
       "    .dataframe tbody tr th {\n",
       "        vertical-align: top;\n",
       "    }\n",
       "\n",
       "    .dataframe thead th {\n",
       "        text-align: right;\n",
       "    }\n",
       "</style>\n",
       "<table border=\"1\" class=\"dataframe\">\n",
       "  <thead>\n",
       "    <tr style=\"text-align: right;\">\n",
       "      <th></th>\n",
       "      <th>school</th>\n",
       "      <th>gpa</th>\n",
       "      <th>act</th>\n",
       "      <th>sat1</th>\n",
       "      <th>test_score</th>\n",
       "      <th>test_type</th>\n",
       "      <th>ap_count</th>\n",
       "      <th>ap_mean</th>\n",
       "      <th>sat2_count</th>\n",
       "      <th>sat2_mean</th>\n",
       "      <th>country</th>\n",
       "      <th>gender</th>\n",
       "      <th>ethnicity</th>\n",
       "      <th>urm</th>\n",
       "      <th>first_generation</th>\n",
       "      <th>ec_count</th>\n",
       "      <th>decision</th>\n",
       "    </tr>\n",
       "  </thead>\n",
       "  <tbody>\n",
       "    <tr>\n",
       "      <th>1</th>\n",
       "      <td>stanford</td>\n",
       "      <td>4.00</td>\n",
       "      <td>33.0</td>\n",
       "      <td>2237.403621</td>\n",
       "      <td>2180</td>\n",
       "      <td>act</td>\n",
       "      <td>1.0</td>\n",
       "      <td>4.456758</td>\n",
       "      <td>1.0</td>\n",
       "      <td>800.000000</td>\n",
       "      <td>US</td>\n",
       "      <td>F</td>\n",
       "      <td>caucasian</td>\n",
       "      <td>0</td>\n",
       "      <td>0</td>\n",
       "      <td>1</td>\n",
       "      <td>0</td>\n",
       "    </tr>\n",
       "    <tr>\n",
       "      <th>3</th>\n",
       "      <td>stanford</td>\n",
       "      <td>4.00</td>\n",
       "      <td>35.0</td>\n",
       "      <td>2237.403621</td>\n",
       "      <td>2330</td>\n",
       "      <td>act</td>\n",
       "      <td>2.0</td>\n",
       "      <td>4.456758</td>\n",
       "      <td>3.0</td>\n",
       "      <td>796.666667</td>\n",
       "      <td>US</td>\n",
       "      <td>None</td>\n",
       "      <td>None</td>\n",
       "      <td>0</td>\n",
       "      <td>0</td>\n",
       "      <td>0</td>\n",
       "      <td>1</td>\n",
       "    </tr>\n",
       "    <tr>\n",
       "      <th>4</th>\n",
       "      <td>stanford</td>\n",
       "      <td>3.98</td>\n",
       "      <td>34.0</td>\n",
       "      <td>2237.403621</td>\n",
       "      <td>2250</td>\n",
       "      <td>act</td>\n",
       "      <td>4.0</td>\n",
       "      <td>3.750000</td>\n",
       "      <td>0.0</td>\n",
       "      <td>757.780283</td>\n",
       "      <td>US</td>\n",
       "      <td>M</td>\n",
       "      <td>caucasian</td>\n",
       "      <td>0</td>\n",
       "      <td>0</td>\n",
       "      <td>0</td>\n",
       "      <td>1</td>\n",
       "    </tr>\n",
       "    <tr>\n",
       "      <th>6</th>\n",
       "      <td>stanford</td>\n",
       "      <td>3.90</td>\n",
       "      <td>32.0</td>\n",
       "      <td>2237.403621</td>\n",
       "      <td>2120</td>\n",
       "      <td>act</td>\n",
       "      <td>6.0</td>\n",
       "      <td>3.333333</td>\n",
       "      <td>0.0</td>\n",
       "      <td>757.780283</td>\n",
       "      <td>US</td>\n",
       "      <td>F</td>\n",
       "      <td>None</td>\n",
       "      <td>1</td>\n",
       "      <td>0</td>\n",
       "      <td>3</td>\n",
       "      <td>1</td>\n",
       "    </tr>\n",
       "    <tr>\n",
       "      <th>8</th>\n",
       "      <td>stanford</td>\n",
       "      <td>3.98</td>\n",
       "      <td>36.0</td>\n",
       "      <td>2237.403621</td>\n",
       "      <td>2390</td>\n",
       "      <td>act</td>\n",
       "      <td>7.0</td>\n",
       "      <td>4.285714</td>\n",
       "      <td>3.0</td>\n",
       "      <td>773.333333</td>\n",
       "      <td>US</td>\n",
       "      <td>M</td>\n",
       "      <td>caucasian</td>\n",
       "      <td>0</td>\n",
       "      <td>0</td>\n",
       "      <td>0</td>\n",
       "      <td>0</td>\n",
       "    </tr>\n",
       "  </tbody>\n",
       "</table>\n",
       "</div>"
      ],
      "text/plain": [
       "     school   gpa   act         sat1  test_score test_type  ap_count  \\\n",
       "1  stanford  4.00  33.0  2237.403621        2180       act       1.0   \n",
       "3  stanford  4.00  35.0  2237.403621        2330       act       2.0   \n",
       "4  stanford  3.98  34.0  2237.403621        2250       act       4.0   \n",
       "6  stanford  3.90  32.0  2237.403621        2120       act       6.0   \n",
       "8  stanford  3.98  36.0  2237.403621        2390       act       7.0   \n",
       "\n",
       "    ap_mean  sat2_count   sat2_mean country gender  ethnicity  urm  \\\n",
       "1  4.456758         1.0  800.000000      US      F  caucasian    0   \n",
       "3  4.456758         3.0  796.666667      US   None       None    0   \n",
       "4  3.750000         0.0  757.780283      US      M  caucasian    0   \n",
       "6  3.333333         0.0  757.780283      US      F       None    1   \n",
       "8  4.285714         3.0  773.333333      US      M  caucasian    0   \n",
       "\n",
       "   first_generation  ec_count  decision  \n",
       "1                 0         1         0  \n",
       "3                 0         0         1  \n",
       "4                 0         0         1  \n",
       "6                 0         3         1  \n",
       "8                 0         0         0  "
      ]
     },
     "execution_count": 3,
     "metadata": {},
     "output_type": "execute_result"
    }
   ],
   "source": [
    "with open('featuresDFwCat.pkl', 'rb') as fobj:\n",
    "    df = pickle.load(fobj, encoding='latin1')\n",
    "with open('updatedProfiles.pkl', 'rb') as fobj:\n",
    "    df_raw = pickle.load(fobj, encoding='latin1')\n",
    "        \n",
    "df.head()"
   ]
  },
  {
   "cell_type": "code",
   "execution_count": 4,
   "metadata": {},
   "outputs": [
    {
     "data": {
      "text/plain": [
       "0.5662878787878788"
      ]
     },
     "execution_count": 4,
     "metadata": {},
     "output_type": "execute_result"
    }
   ],
   "source": [
    "df['decision'].mean()"
   ]
  },
  {
   "cell_type": "code",
   "execution_count": 5,
   "metadata": {},
   "outputs": [],
   "source": [
    "df = df.loc[df.act != 1]"
   ]
  },
  {
   "cell_type": "code",
   "execution_count": 6,
   "metadata": {},
   "outputs": [],
   "source": [
    "score_map = {36: 2390, 35: 2330, 34:2250, 33.35567282:2220, 33:2180, 32:2120, 31:2060, 30:2000, \n",
    "             29:1940, 28:1880, 27:1820, 26:1770, 25:1710, 24:1650, 23:1590, 22:1530, 21:1470, 1:600, 0:0, 40:0}\n",
    "sat_mode = float(df['sat1'].mode())\n",
    "act_mode = int(df['act'].mode())\n",
    "gpa_mode = float(df['gpa'].mode())"
   ]
  },
  {
   "cell_type": "code",
   "execution_count": 7,
   "metadata": {},
   "outputs": [],
   "source": [
    "df_raw2 = df_raw[['gpa','act', 'sat1', 'decision']].copy(deep = True)\n",
    "df_raw2['decision'] = df_raw2['decision'].apply(binary_decision)\n",
    "df_raw2['act'] = df_raw2['act'].astype(int)"
   ]
  },
  {
   "cell_type": "code",
   "execution_count": 8,
   "metadata": {},
   "outputs": [],
   "source": [
    "def get_best_test(row):\n",
    "    if row.act == 0:\n",
    "        return pd.Series({'test_type': 'sat', 'test_score': row.sat1_round})\n",
    "    elif row.sat1 == 0:\n",
    "        return pd.Series({'test_type': 'act', 'test_score': score_map.get(row.act)})\n",
    "    else:\n",
    "#         print(row.act)\n",
    "        if row.sat1_round > score_map.get(row.act):\n",
    "            return pd.Series({'test_type': 'sat', 'test_score': row.sat1_round})\n",
    "        else:\n",
    "            return pd.Series({'test_type': 'act', 'test_score': score_map.get(row.act)})"
   ]
  },
  {
   "cell_type": "code",
   "execution_count": 9,
   "metadata": {},
   "outputs": [],
   "source": [
    "def myround(x, base=25):\n",
    "    return int(base * round(float(x)/base))\n",
    "df_raw2['sat1_round'] = df_raw2['sat1'].apply(myround)"
   ]
  },
  {
   "cell_type": "code",
   "execution_count": 10,
   "metadata": {},
   "outputs": [
    {
     "ename": "NameError",
     "evalue": "name 'df_raw3' is not defined",
     "output_type": "error",
     "traceback": [
      "\u001b[0;31m---------------------------------------------------------------------------\u001b[0m",
      "\u001b[0;31mNameError\u001b[0m                                 Traceback (most recent call last)",
      "\u001b[0;32m<ipython-input-10-78bc1afeaf9b>\u001b[0m in \u001b[0;36m<module>\u001b[0;34m()\u001b[0m\n\u001b[0;32m----> 1\u001b[0;31m \u001b[0mdf_raw3\u001b[0m\u001b[0;34m[\u001b[0m\u001b[0;34m'act'\u001b[0m\u001b[0;34m]\u001b[0m\u001b[0;34m.\u001b[0m\u001b[0munique\u001b[0m\u001b[0;34m(\u001b[0m\u001b[0;34m)\u001b[0m\u001b[0;34m\u001b[0m\u001b[0m\n\u001b[0m",
      "\u001b[0;31mNameError\u001b[0m: name 'df_raw3' is not defined"
     ]
    }
   ],
   "source": [
    "df_raw3['act'].unique()"
   ]
  },
  {
   "cell_type": "code",
   "execution_count": null,
   "metadata": {},
   "outputs": [],
   "source": [
    "df_raw3 = df_raw2.loc[((df_raw2.gpa != 0) & ((df_raw2.sat1 != 0) | (df_raw2.act != 0)))].copy(deep = True)\n",
    "# df_raw3\n",
    "df_raw3[['test_score','test_type']] = df_raw3.apply(get_best_test, axis = 1)"
   ]
  },
  {
   "cell_type": "code",
   "execution_count": null,
   "metadata": {},
   "outputs": [],
   "source": [
    "df_graph = df_raw3\n",
    "df_graph.head()"
   ]
  },
  {
   "cell_type": "code",
   "execution_count": null,
   "metadata": {},
   "outputs": [],
   "source": [
    "# acc = df2.loc[df.decision == 1]\n",
    "# rej = df2.loc[df.decision == 0]\n",
    "# # rewaj = df.loc[df.decision == 1]"
   ]
  },
  {
   "cell_type": "code",
   "execution_count": null,
   "metadata": {},
   "outputs": [],
   "source": [
    "g = df_graph.groupby(by = 'act')['decision'].agg(['mean','count']).reset_index()\n",
    "\n",
    "plt.scatter(g['act'], g['mean'], s=g['count'])\n",
    "plt.xlim(20, 36)\n",
    "plt.xlabel('ACT score')\n",
    "plt.ylabel('Percent Acceptance')\n",
    "plt.title('ACT vs. Acceptance')\n",
    "plt.show()"
   ]
  },
  {
   "cell_type": "code",
   "execution_count": null,
   "metadata": {},
   "outputs": [],
   "source": [
    "g = df_graph.groupby(by = 'sat1_round')['decision'].agg(['mean','count']).reset_index()\n",
    "\n",
    "plt.scatter(g['sat1_round'], g['mean'], s=g['count'])\n",
    "plt.xlim(1800, 2400)\n",
    "plt.ylim(.3, .7)\n",
    "plt.xlabel('SAT score')\n",
    "plt.ylabel('Percent Acceptance')\n",
    "plt.title('SAT vs. Acceptance')\n",
    "plt.show()"
   ]
  },
  {
   "cell_type": "code",
   "execution_count": null,
   "metadata": {},
   "outputs": [],
   "source": [
    "g = df_graph.groupby(by = ['test_type', 'test_score'])['decision'].agg(['mean','count']).reset_index()\n",
    "g_act = g.loc[g.test_type == 'act']\n",
    "g_sat = g.loc[g.test_type == 'sat']\n",
    "\n",
    "plt.scatter(g_act['test_score'], g_act['mean'], s=g_act['count'], c = 'b', label = 'act')\n",
    "plt.scatter(g_sat['test_score'], g_sat['mean'], s=g_sat['count'], c = 'r', label = 'sat')\n",
    "\n",
    "plt.xlim(1800, 2400)\n",
    "plt.ylim(.3, 1)\n",
    "plt.xlabel('Stardardized Test Score')\n",
    "plt.ylabel('Percent Acceptance')\n",
    "plt.title('Test Score vs. Acceptance')\n",
    "plt.legend(loc='upper left')\n",
    "plt.show()"
   ]
  },
  {
   "cell_type": "code",
   "execution_count": null,
   "metadata": {},
   "outputs": [],
   "source": [
    "g = df.groupby(by = ['ec_count'])['decision'].agg(['mean','count']).reset_index()\n",
    "plt.scatter(g['ec_count'], g['mean'], s=g['count'], c = 'b', label = 'act')\n",
    "\n",
    "plt.xlim(0, 10)\n",
    "plt.ylim(.3, 1)\n",
    "plt.xlabel('ECs')\n",
    "plt.ylabel('Percent Acceptance')\n",
    "plt.title('ECs vs. Acceptance')\n",
    "plt.show()"
   ]
  },
  {
   "cell_type": "code",
   "execution_count": null,
   "metadata": {},
   "outputs": [],
   "source": [
    "def decround(x, base=10):\n",
    "    x = x * 100\n",
    "    x = int(base * round(float(x)/base))\n",
    "    return x/100\n",
    "df['gpa_round'] = df['gpa'].apply(decround)"
   ]
  },
  {
   "cell_type": "code",
   "execution_count": null,
   "metadata": {},
   "outputs": [],
   "source": [
    "df.head(10)\n",
    "# df['gpa'].unique()"
   ]
  },
  {
   "cell_type": "code",
   "execution_count": null,
   "metadata": {},
   "outputs": [],
   "source": [
    "g = df.groupby(by = ['gpa_round'])['decision'].agg(['mean','count']).reset_index()\n",
    "plt.scatter(g['gpa_round'], g['mean'], s=g['count'], c = 'b', label = 'act')\n",
    "\n",
    "plt.xlim(3, 4.25)\n",
    "plt.ylim(.3, 1)\n",
    "plt.xlabel('GPA')\n",
    "plt.ylabel('Percent Acceptance')\n",
    "plt.title('GPA vs. Acceptance')\n",
    "plt.show()"
   ]
  },
  {
   "cell_type": "code",
   "execution_count": null,
   "metadata": {},
   "outputs": [],
   "source": [
    "g = df.groupby(by = ['sat2_count'])['decision'].agg(['mean','count']).reset_index()\n",
    "plt.scatter(g['sat2_count'], g['mean'], s=g['count'], c = 'b', label = 'act')\n",
    "\n",
    "plt.xlim(0, 10)\n",
    "plt.ylim(.3, 1)\n",
    "plt.xlabel('SAT2 Count')\n",
    "plt.ylabel('Percent Acceptance')\n",
    "plt.title('SAT2 Count vs. Acceptance')\n",
    "plt.show()"
   ]
  },
  {
   "cell_type": "code",
   "execution_count": null,
   "metadata": {},
   "outputs": [],
   "source": [
    "g = df.groupby(by = ['ethnicity'])['decision'].agg(['mean','count']).reset_index()\n",
    "plt.scatter(g['ethnicity'], g['mean'], s=g['count'], c = 'b', label = 'act')\n",
    "\n",
    "plt.ylim(.3, 1)\n",
    "plt.xlabel('Ethnicity')\n",
    "plt.ylabel('Percent Acceptance')\n",
    "plt.title('Ethnicity vs. Acceptance')\n",
    "plt.show()"
   ]
  },
  {
   "cell_type": "code",
   "execution_count": null,
   "metadata": {},
   "outputs": [],
   "source": [
    "df['urmstr'] = df['urm'].astype(str)\n",
    "g = df.groupby(by = ['urmstr'])['decision'].agg(['mean','count']).reset_index()\n",
    "plt.scatter(g['urmstr'], g['mean'], s=g['count'], c = 'b', label = 'act')\n",
    "\n",
    "# plt.xlim(0, 10)\n",
    "plt.ylim(.3, 1)\n",
    "plt.xlabel('urm')\n",
    "plt.ylabel('Percent Acceptance')\n",
    "plt.title('urm vs. Acceptance')\n",
    "plt.show()"
   ]
  },
  {
   "cell_type": "code",
   "execution_count": null,
   "metadata": {},
   "outputs": [],
   "source": [
    "df['fg'] = df['first_generation'].astype(str)\n",
    "g = df.groupby(by = ['fg'])['decision'].agg(['mean','count']).reset_index()\n",
    "plt.scatter(g['fg'], g['mean'], s=g['count'], c = 'b', label = 'act')\n",
    "\n",
    "# plt.xlim(0, 10)\n",
    "plt.ylim(.3, 1)\n",
    "plt.xlabel('First generation')\n",
    "plt.ylabel('Percent Acceptance')\n",
    "plt.title('First_generation vs. Acceptance')\n",
    "plt.show()"
   ]
  },
  {
   "cell_type": "code",
   "execution_count": null,
   "metadata": {},
   "outputs": [],
   "source": [
    "g = df.groupby(by = ['gender'])['decision'].agg(['mean','count']).reset_index()\n",
    "plt.scatter(g['gender'], g['mean'], s=g['count'], c = 'b', label = 'act')\n",
    "\n",
    "plt.ylim(.3, 1)\n",
    "plt.xlabel('Gender')\n",
    "plt.ylabel('Percent Acceptance')\n",
    "plt.title('Gender vs. Acceptance')\n",
    "plt.show()"
   ]
  },
  {
   "cell_type": "code",
   "execution_count": null,
   "metadata": {},
   "outputs": [],
   "source": [
    "df['rank_round'] = df['rank'].apply(decround)\n",
    "g = df.groupby(by = ['rank_round'])['decision'].agg(['mean','count']).reset_index()\n",
    "plt.scatter(g['rank_round'], g['mean'], s=g['count'], c = 'b', label = 'act')\n",
    "\n",
    "plt.xlim(0, .5)\n",
    "plt.ylim(.3, 1)\n",
    "plt.xlabel('Rank')\n",
    "plt.ylabel('Percent Acceptance')\n",
    "plt.title('Rank vs. Acceptance')\n",
    "plt.show()"
   ]
  },
  {
   "cell_type": "code",
   "execution_count": null,
   "metadata": {},
   "outputs": [],
   "source": [
    "g = df.groupby(by = ['rank_round'])['decision'].agg(['mean','count']).reset_index()\n",
    "plt.scatter(g['rank_round'], g['mean'], s=g['count'], c = 'b', label = 'act')\n",
    "\n",
    "plt.xlim(0, .5)\n",
    "plt.ylim(.3, 1)\n",
    "plt.xlabel('Rank')\n",
    "plt.ylabel('Percent Acceptance')\n",
    "plt.title('Rank vs. Acceptance')\n",
    "plt.show()"
   ]
  },
  {
   "cell_type": "code",
   "execution_count": null,
   "metadata": {},
   "outputs": [],
   "source": [
    "bins = np.linspace(1800, 2400, 12)\n",
    "plt.hist(acc['sat1'], bins, alpha=0.5, label='acc')\n",
    "plt.hist(rej['sat1'], bins, alpha=0.5, label='rej')\n",
    "plt.legend(loc='upper right')\n",
    "plt.show()"
   ]
  },
  {
   "cell_type": "code",
   "execution_count": null,
   "metadata": {},
   "outputs": [],
   "source": [
    "# plt.figure()\n",
    "df.hist(column = 'act')\n",
    "df.hist(column = 'sat1')\n",
    "df.hist(column = 'gpa')\n",
    "df.hist(column = 'rank')"
   ]
  },
  {
   "cell_type": "code",
   "execution_count": null,
   "metadata": {},
   "outputs": [],
   "source": [
    "df.plot.scatter(x='ec_count', y='decision')"
   ]
  },
  {
   "cell_type": "code",
   "execution_count": null,
   "metadata": {},
   "outputs": [],
   "source": []
  }
 ],
 "metadata": {
  "kernelspec": {
   "display_name": "Python 3",
   "language": "python",
   "name": "python3"
  },
  "language_info": {
   "codemirror_mode": {
    "name": "ipython",
    "version": 3
   },
   "file_extension": ".py",
   "mimetype": "text/x-python",
   "name": "python",
   "nbconvert_exporter": "python",
   "pygments_lexer": "ipython3",
   "version": "3.6.3"
  }
 },
 "nbformat": 4,
 "nbformat_minor": 2
}
