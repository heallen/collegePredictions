{
 "cells": [
  {
   "cell_type": "code",
   "execution_count": 3,
   "metadata": {},
   "outputs": [],
   "source": [
    "import pickle\n",
    "import pandas as pd\n",
    "import numpy as np\n",
    "# import matplotlib\n",
    "# matplotlib.use('TkAgg')\n",
    "import matplotlib.pyplot as plt\n",
    "%matplotlib inline\n"
   ]
  },
  {
   "cell_type": "code",
   "execution_count": 4,
   "metadata": {},
   "outputs": [],
   "source": [
    "def binary_decision(dec):\n",
    "    if dec == 'A':return 1\n",
    "    else: return 0"
   ]
  },
  {
   "cell_type": "code",
   "execution_count": 5,
   "metadata": {},
   "outputs": [
    {
     "data": {
      "text/html": [
       "<div>\n",
       "<style scoped>\n",
       "    .dataframe tbody tr th:only-of-type {\n",
       "        vertical-align: middle;\n",
       "    }\n",
       "\n",
       "    .dataframe tbody tr th {\n",
       "        vertical-align: top;\n",
       "    }\n",
       "\n",
       "    .dataframe thead th {\n",
       "        text-align: right;\n",
       "    }\n",
       "</style>\n",
       "<table border=\"1\" class=\"dataframe\">\n",
       "  <thead>\n",
       "    <tr style=\"text-align: right;\">\n",
       "      <th></th>\n",
       "      <th>school</th>\n",
       "      <th>gpa</th>\n",
       "      <th>act</th>\n",
       "      <th>sat1</th>\n",
       "      <th>ap_count</th>\n",
       "      <th>ap_mean</th>\n",
       "      <th>sat2_count</th>\n",
       "      <th>sat2_mean</th>\n",
       "      <th>country</th>\n",
       "      <th>rank</th>\n",
       "      <th>gender</th>\n",
       "      <th>ethnicity</th>\n",
       "      <th>urm</th>\n",
       "      <th>first_generation</th>\n",
       "      <th>ec_count</th>\n",
       "      <th>decision</th>\n",
       "    </tr>\n",
       "  </thead>\n",
       "  <tbody>\n",
       "    <tr>\n",
       "      <th>0</th>\n",
       "      <td>yale</td>\n",
       "      <td>3.848229</td>\n",
       "      <td>33.355673</td>\n",
       "      <td>2238.482192</td>\n",
       "      <td>0.0</td>\n",
       "      <td>2.051209e+06</td>\n",
       "      <td>0.0</td>\n",
       "      <td>2.051209e+06</td>\n",
       "      <td>US</td>\n",
       "      <td>0.027004</td>\n",
       "      <td>None</td>\n",
       "      <td>None</td>\n",
       "      <td>0</td>\n",
       "      <td>0</td>\n",
       "      <td>0</td>\n",
       "      <td>0</td>\n",
       "    </tr>\n",
       "    <tr>\n",
       "      <th>1</th>\n",
       "      <td>yale</td>\n",
       "      <td>4.000000</td>\n",
       "      <td>33.355673</td>\n",
       "      <td>2350.000000</td>\n",
       "      <td>6.0</td>\n",
       "      <td>5.000000e+00</td>\n",
       "      <td>6.0</td>\n",
       "      <td>5.000000e+00</td>\n",
       "      <td>US</td>\n",
       "      <td>0.000000</td>\n",
       "      <td>M</td>\n",
       "      <td>None</td>\n",
       "      <td>0</td>\n",
       "      <td>0</td>\n",
       "      <td>1</td>\n",
       "      <td>0</td>\n",
       "    </tr>\n",
       "    <tr>\n",
       "      <th>2</th>\n",
       "      <td>yale</td>\n",
       "      <td>4.000000</td>\n",
       "      <td>33.355673</td>\n",
       "      <td>2238.482192</td>\n",
       "      <td>12.0</td>\n",
       "      <td>4.666667e+00</td>\n",
       "      <td>12.0</td>\n",
       "      <td>4.666667e+00</td>\n",
       "      <td>US</td>\n",
       "      <td>0.027004</td>\n",
       "      <td>F</td>\n",
       "      <td>asian</td>\n",
       "      <td>0</td>\n",
       "      <td>0</td>\n",
       "      <td>0</td>\n",
       "      <td>0</td>\n",
       "    </tr>\n",
       "    <tr>\n",
       "      <th>3</th>\n",
       "      <td>yale</td>\n",
       "      <td>3.500000</td>\n",
       "      <td>33.355673</td>\n",
       "      <td>2320.000000</td>\n",
       "      <td>0.0</td>\n",
       "      <td>2.051209e+06</td>\n",
       "      <td>0.0</td>\n",
       "      <td>2.051209e+06</td>\n",
       "      <td>US</td>\n",
       "      <td>0.000000</td>\n",
       "      <td>M</td>\n",
       "      <td>indian</td>\n",
       "      <td>0</td>\n",
       "      <td>0</td>\n",
       "      <td>2</td>\n",
       "      <td>0</td>\n",
       "    </tr>\n",
       "    <tr>\n",
       "      <th>4</th>\n",
       "      <td>yale</td>\n",
       "      <td>3.848229</td>\n",
       "      <td>33.355673</td>\n",
       "      <td>2238.482192</td>\n",
       "      <td>0.0</td>\n",
       "      <td>2.051209e+06</td>\n",
       "      <td>0.0</td>\n",
       "      <td>2.051209e+06</td>\n",
       "      <td>US</td>\n",
       "      <td>0.027004</td>\n",
       "      <td>F</td>\n",
       "      <td>asian</td>\n",
       "      <td>0</td>\n",
       "      <td>0</td>\n",
       "      <td>0</td>\n",
       "      <td>0</td>\n",
       "    </tr>\n",
       "  </tbody>\n",
       "</table>\n",
       "</div>"
      ],
      "text/plain": [
       "  school       gpa        act         sat1  ap_count       ap_mean  \\\n",
       "0   yale  3.848229  33.355673  2238.482192       0.0  2.051209e+06   \n",
       "1   yale  4.000000  33.355673  2350.000000       6.0  5.000000e+00   \n",
       "2   yale  4.000000  33.355673  2238.482192      12.0  4.666667e+00   \n",
       "3   yale  3.500000  33.355673  2320.000000       0.0  2.051209e+06   \n",
       "4   yale  3.848229  33.355673  2238.482192       0.0  2.051209e+06   \n",
       "\n",
       "   sat2_count     sat2_mean country      rank gender ethnicity  urm  \\\n",
       "0         0.0  2.051209e+06      US  0.027004   None      None    0   \n",
       "1         6.0  5.000000e+00      US  0.000000      M      None    0   \n",
       "2        12.0  4.666667e+00      US  0.027004      F     asian    0   \n",
       "3         0.0  2.051209e+06      US  0.000000      M    indian    0   \n",
       "4         0.0  2.051209e+06      US  0.027004      F     asian    0   \n",
       "\n",
       "   first_generation  ec_count  decision  \n",
       "0                 0         0         0  \n",
       "1                 0         1         0  \n",
       "2                 0         0         0  \n",
       "3                 0         2         0  \n",
       "4                 0         0         0  "
      ]
     },
     "execution_count": 5,
     "metadata": {},
     "output_type": "execute_result"
    }
   ],
   "source": [
    "with open('featuresDFwCat.pkl', 'rb') as fobj:\n",
    "    df = pickle.load(fobj, encoding='latin1')\n",
    "with open('updatedProfiles.pkl', 'rb') as fobj:\n",
    "    df_raw = pickle.load(fobj, encoding='latin1')\n",
    "        \n",
    "df.head()"
   ]
  },
  {
   "cell_type": "code",
   "execution_count": 63,
   "metadata": {},
   "outputs": [
    {
     "data": {
      "text/plain": [
       "0.5762588178058866"
      ]
     },
     "execution_count": 63,
     "metadata": {},
     "output_type": "execute_result"
    }
   ],
   "source": [
    "df['decision'].mean()"
   ]
  },
  {
   "cell_type": "code",
   "execution_count": 7,
   "metadata": {},
   "outputs": [],
   "source": [
    "df = df.loc[df.act != 1]"
   ]
  },
  {
   "cell_type": "code",
   "execution_count": 30,
   "metadata": {},
   "outputs": [],
   "source": [
    "score_map = {36: 2390, 35: 2330, 34:2250, 33.35567282:2220, 33:2180, 32:2120, 31:2060, 30:2000, \n",
    "             29:1940, 28:1880, 27:1820, 26:1770, 25:1710, 24:1650, 23:1590, 22:1530, 21:1470, 1:600, 0:0, 40:0}\n",
    "sat_mode = float(df['sat1'].mode())\n",
    "act_mode = int(df['act'].mode())\n",
    "gpa_mode = float(df['gpa'].mode())"
   ]
  },
  {
   "cell_type": "code",
   "execution_count": 31,
   "metadata": {},
   "outputs": [],
   "source": [
    "df_raw2 = df_raw[['gpa','act', 'sat1', 'decision']].copy(deep = True)\n",
    "df_raw2['decision'] = df_raw2['decision'].apply(binary_decision)\n",
    "df_raw2['act'] = df_raw2['act'].astype(int)"
   ]
  },
  {
   "cell_type": "code",
   "execution_count": 32,
   "metadata": {},
   "outputs": [],
   "source": [
    "def get_best_test(row):\n",
    "    if row.act == 0:\n",
    "        return pd.Series({'test_type': 'sat', 'test_score': row.sat1_round})\n",
    "    elif row.sat1 == 0:\n",
    "        return pd.Series({'test_type': 'act', 'test_score': score_map.get(row.act)})\n",
    "    else:\n",
    "#         print(row.act)\n",
    "        if row.sat1_round > score_map.get(row.act):\n",
    "            return pd.Series({'test_type': 'sat', 'test_score': row.sat1_round})\n",
    "        else:\n",
    "            return pd.Series({'test_type': 'act', 'test_score': score_map.get(row.act)})"
   ]
  },
  {
   "cell_type": "code",
   "execution_count": 33,
   "metadata": {},
   "outputs": [],
   "source": [
    "def myround(x, base=25):\n",
    "    return int(base * round(float(x)/base))\n",
    "df_raw2['sat1_round'] = df_raw2['sat1'].apply(myround)"
   ]
  },
  {
   "cell_type": "code",
   "execution_count": 34,
   "metadata": {},
   "outputs": [
    {
     "data": {
      "text/plain": [
       "array([ 0, 34, 33, 35, 36, 32, 29, 31, 30, 28, 27,  1, 22, 25, 26, 24, 40])"
      ]
     },
     "execution_count": 34,
     "metadata": {},
     "output_type": "execute_result"
    }
   ],
   "source": [
    "df_raw3['act'].unique()"
   ]
  },
  {
   "cell_type": "code",
   "execution_count": 35,
   "metadata": {},
   "outputs": [],
   "source": [
    "df_raw3 = df_raw2.loc[((df_raw2.gpa != 0) & ((df_raw2.sat1 != 0) | (df_raw2.act != 0)))].copy(deep = True)\n",
    "# df_raw3\n",
    "df_raw3[['test_score','test_type']] = df_raw3.apply(get_best_test, axis = 1)"
   ]
  },
  {
   "cell_type": "code",
   "execution_count": 36,
   "metadata": {},
   "outputs": [
    {
     "data": {
      "text/html": [
       "<div>\n",
       "<style scoped>\n",
       "    .dataframe tbody tr th:only-of-type {\n",
       "        vertical-align: middle;\n",
       "    }\n",
       "\n",
       "    .dataframe tbody tr th {\n",
       "        vertical-align: top;\n",
       "    }\n",
       "\n",
       "    .dataframe thead th {\n",
       "        text-align: right;\n",
       "    }\n",
       "</style>\n",
       "<table border=\"1\" class=\"dataframe\">\n",
       "  <thead>\n",
       "    <tr style=\"text-align: right;\">\n",
       "      <th></th>\n",
       "      <th>gpa</th>\n",
       "      <th>act</th>\n",
       "      <th>sat1</th>\n",
       "      <th>decision</th>\n",
       "      <th>sat1_round</th>\n",
       "      <th>test_score</th>\n",
       "      <th>test_type</th>\n",
       "    </tr>\n",
       "  </thead>\n",
       "  <tbody>\n",
       "    <tr>\n",
       "      <th>1</th>\n",
       "      <td>4.00</td>\n",
       "      <td>0</td>\n",
       "      <td>2350</td>\n",
       "      <td>0</td>\n",
       "      <td>2350</td>\n",
       "      <td>2350.0</td>\n",
       "      <td>sat</td>\n",
       "    </tr>\n",
       "    <tr>\n",
       "      <th>3</th>\n",
       "      <td>3.50</td>\n",
       "      <td>0</td>\n",
       "      <td>2320</td>\n",
       "      <td>0</td>\n",
       "      <td>2325</td>\n",
       "      <td>2325.0</td>\n",
       "      <td>sat</td>\n",
       "    </tr>\n",
       "    <tr>\n",
       "      <th>5</th>\n",
       "      <td>3.93</td>\n",
       "      <td>34</td>\n",
       "      <td>0</td>\n",
       "      <td>0</td>\n",
       "      <td>0</td>\n",
       "      <td>2250.0</td>\n",
       "      <td>act</td>\n",
       "    </tr>\n",
       "    <tr>\n",
       "      <th>6</th>\n",
       "      <td>4.00</td>\n",
       "      <td>33</td>\n",
       "      <td>2230</td>\n",
       "      <td>0</td>\n",
       "      <td>2225</td>\n",
       "      <td>2225.0</td>\n",
       "      <td>sat</td>\n",
       "    </tr>\n",
       "    <tr>\n",
       "      <th>7</th>\n",
       "      <td>4.00</td>\n",
       "      <td>35</td>\n",
       "      <td>2310</td>\n",
       "      <td>0</td>\n",
       "      <td>2300</td>\n",
       "      <td>2330.0</td>\n",
       "      <td>act</td>\n",
       "    </tr>\n",
       "  </tbody>\n",
       "</table>\n",
       "</div>"
      ],
      "text/plain": [
       "    gpa  act  sat1  decision  sat1_round  test_score test_type\n",
       "1  4.00    0  2350         0        2350      2350.0       sat\n",
       "3  3.50    0  2320         0        2325      2325.0       sat\n",
       "5  3.93   34     0         0           0      2250.0       act\n",
       "6  4.00   33  2230         0        2225      2225.0       sat\n",
       "7  4.00   35  2310         0        2300      2330.0       act"
      ]
     },
     "execution_count": 36,
     "metadata": {},
     "output_type": "execute_result"
    }
   ],
   "source": [
    "df_graph = df_raw3\n",
    "df_graph.head()"
   ]
  },
  {
   "cell_type": "code",
   "execution_count": null,
   "metadata": {},
   "outputs": [],
   "source": [
    "# acc = df2.loc[df.decision == 1]\n",
    "# rej = df2.loc[df.decision == 0]\n",
    "# # rewaj = df.loc[df.decision == 1]"
   ]
  },
  {
   "cell_type": "code",
   "execution_count": 37,
   "metadata": {},
   "outputs": [
    {
     "data": {
      "image/png": "[encoded data removed]",
      "text/plain": [
       "<matplotlib.figure.Figure at 0x1108aa358>"
      ]
     },
     "metadata": {},
     "output_type": "display_data"
    }
   ],
   "source": [
    "g = df_graph.groupby(by = 'act')['decision'].agg(['mean','count']).reset_index()\n",
    "\n",
    "plt.scatter(g['act'], g['mean'], s=g['count'])\n",
    "plt.xlim(20, 36)\n",
    "plt.xlabel('ACT score')\n",
    "plt.ylabel('Percent Acceptance')\n",
    "plt.title('ACT vs. Acceptance')\n",
    "plt.show()"
   ]
  },
  {
   "cell_type": "code",
   "execution_count": 38,
   "metadata": {},
   "outputs": [
    {
     "data": {
      "image/png": "[encoded data removed]",
      "text/plain": [
       "<matplotlib.figure.Figure at 0x1108c1d68>"
      ]
     },
     "metadata": {},
     "output_type": "display_data"
    }
   ],
   "source": [
    "g = df_graph.groupby(by = 'sat1_round')['decision'].agg(['mean','count']).reset_index()\n",
    "\n",
    "plt.scatter(g['sat1_round'], g['mean'], s=g['count'])\n",
    "plt.xlim(1800, 2400)\n",
    "plt.ylim(.3, .7)\n",
    "plt.xlabel('SAT score')\n",
    "plt.ylabel('Percent Acceptance')\n",
    "plt.title('SAT vs. Acceptance')\n",
    "plt.show()"
   ]
  },
  {
   "cell_type": "code",
   "execution_count": 40,
   "metadata": {},
   "outputs": [
    {
     "data": {
      "image/png": "[encoded data removed]",
      "text/plain": [
       "<matplotlib.figure.Figure at 0x10ef9f710>"
      ]
     },
     "metadata": {},
     "output_type": "display_data"
    }
   ],
   "source": [
    "g = df_graph.groupby(by = ['test_type', 'test_score'])['decision'].agg(['mean','count']).reset_index()\n",
    "g_act = g.loc[g.test_type == 'act']\n",
    "g_sat = g.loc[g.test_type == 'sat']\n",
    "\n",
    "plt.scatter(g_act['test_score'], g_act['mean'], s=g_act['count'], c = 'b', label = 'act')\n",
    "plt.scatter(g_sat['test_score'], g_sat['mean'], s=g_sat['count'], c = 'r', label = 'sat')\n",
    "\n",
    "plt.xlim(1800, 2400)\n",
    "plt.ylim(.3, 1)\n",
    "plt.xlabel('Stardardized Test Score')\n",
    "plt.ylabel('Percent Acceptance')\n",
    "plt.title('Test Score vs. Acceptance')\n",
    "plt.legend(loc='upper left')\n",
    "plt.show()"
   ]
  },
  {
   "cell_type": "code",
   "execution_count": 41,
   "metadata": {},
   "outputs": [
    {
     "data": {
      "image/png": "[encoded data removed]",
      "text/plain": [
       "<matplotlib.figure.Figure at 0x10f01ff28>"
      ]
     },
     "metadata": {},
     "output_type": "display_data"
    }
   ],
   "source": [
    "g = df.groupby(by = ['ec_count'])['decision'].agg(['mean','count']).reset_index()\n",
    "plt.scatter(g['ec_count'], g['mean'], s=g['count'], c = 'b', label = 'act')\n",
    "\n",
    "plt.xlim(0, 10)\n",
    "plt.ylim(.3, 1)\n",
    "plt.xlabel('ECs')\n",
    "plt.ylabel('Percent Acceptance')\n",
    "plt.title('ECs vs. Acceptance')\n",
    "plt.show()"
   ]
  },
  {
   "cell_type": "code",
   "execution_count": 47,
   "metadata": {},
   "outputs": [],
   "source": [
    "def decround(x, base=10):\n",
    "    x = x * 100\n",
    "    x = int(base * round(float(x)/base))\n",
    "    return x/100\n",
    "df['gpa_round'] = df['gpa'].apply(decround)"
   ]
  },
  {
   "cell_type": "code",
   "execution_count": 66,
   "metadata": {},
   "outputs": [
    {
     "data": {
      "text/html": [
       "<div>\n",
       "<style scoped>\n",
       "    .dataframe tbody tr th:only-of-type {\n",
       "        vertical-align: middle;\n",
       "    }\n",
       "\n",
       "    .dataframe tbody tr th {\n",
       "        vertical-align: top;\n",
       "    }\n",
       "\n",
       "    .dataframe thead th {\n",
       "        text-align: right;\n",
       "    }\n",
       "</style>\n",
       "<table border=\"1\" class=\"dataframe\">\n",
       "  <thead>\n",
       "    <tr style=\"text-align: right;\">\n",
       "      <th></th>\n",
       "      <th>school</th>\n",
       "      <th>gpa</th>\n",
       "      <th>act</th>\n",
       "      <th>sat1</th>\n",
       "      <th>ap_count</th>\n",
       "      <th>ap_mean</th>\n",
       "      <th>sat2_count</th>\n",
       "      <th>sat2_mean</th>\n",
       "      <th>country</th>\n",
       "      <th>rank</th>\n",
       "      <th>gender</th>\n",
       "      <th>ethnicity</th>\n",
       "      <th>urm</th>\n",
       "      <th>first_generation</th>\n",
       "      <th>ec_count</th>\n",
       "      <th>decision</th>\n",
       "      <th>gpa_round</th>\n",
       "      <th>urmstr</th>\n",
       "      <th>fg</th>\n",
       "      <th>rank_round</th>\n",
       "    </tr>\n",
       "  </thead>\n",
       "  <tbody>\n",
       "    <tr>\n",
       "      <th>0</th>\n",
       "      <td>yale</td>\n",
       "      <td>3.848229</td>\n",
       "      <td>33.355673</td>\n",
       "      <td>2238.482192</td>\n",
       "      <td>0.0</td>\n",
       "      <td>2.051209e+06</td>\n",
       "      <td>0.0</td>\n",
       "      <td>2.051209e+06</td>\n",
       "      <td>US</td>\n",
       "      <td>0.027004</td>\n",
       "      <td>None</td>\n",
       "      <td>None</td>\n",
       "      <td>0</td>\n",
       "      <td>0</td>\n",
       "      <td>0</td>\n",
       "      <td>0</td>\n",
       "      <td>3.8</td>\n",
       "      <td>0</td>\n",
       "      <td>0</td>\n",
       "      <td>0.0</td>\n",
       "    </tr>\n",
       "    <tr>\n",
       "      <th>1</th>\n",
       "      <td>yale</td>\n",
       "      <td>4.000000</td>\n",
       "      <td>33.355673</td>\n",
       "      <td>2350.000000</td>\n",
       "      <td>6.0</td>\n",
       "      <td>5.000000e+00</td>\n",
       "      <td>6.0</td>\n",
       "      <td>5.000000e+00</td>\n",
       "      <td>US</td>\n",
       "      <td>0.000000</td>\n",
       "      <td>M</td>\n",
       "      <td>None</td>\n",
       "      <td>0</td>\n",
       "      <td>0</td>\n",
       "      <td>1</td>\n",
       "      <td>0</td>\n",
       "      <td>4.0</td>\n",
       "      <td>0</td>\n",
       "      <td>0</td>\n",
       "      <td>0.0</td>\n",
       "    </tr>\n",
       "    <tr>\n",
       "      <th>2</th>\n",
       "      <td>yale</td>\n",
       "      <td>4.000000</td>\n",
       "      <td>33.355673</td>\n",
       "      <td>2238.482192</td>\n",
       "      <td>12.0</td>\n",
       "      <td>4.666667e+00</td>\n",
       "      <td>12.0</td>\n",
       "      <td>4.666667e+00</td>\n",
       "      <td>US</td>\n",
       "      <td>0.027004</td>\n",
       "      <td>F</td>\n",
       "      <td>asian</td>\n",
       "      <td>0</td>\n",
       "      <td>0</td>\n",
       "      <td>0</td>\n",
       "      <td>0</td>\n",
       "      <td>4.0</td>\n",
       "      <td>0</td>\n",
       "      <td>0</td>\n",
       "      <td>0.0</td>\n",
       "    </tr>\n",
       "    <tr>\n",
       "      <th>3</th>\n",
       "      <td>yale</td>\n",
       "      <td>3.500000</td>\n",
       "      <td>33.355673</td>\n",
       "      <td>2320.000000</td>\n",
       "      <td>0.0</td>\n",
       "      <td>2.051209e+06</td>\n",
       "      <td>0.0</td>\n",
       "      <td>2.051209e+06</td>\n",
       "      <td>US</td>\n",
       "      <td>0.000000</td>\n",
       "      <td>M</td>\n",
       "      <td>indian</td>\n",
       "      <td>0</td>\n",
       "      <td>0</td>\n",
       "      <td>2</td>\n",
       "      <td>0</td>\n",
       "      <td>3.5</td>\n",
       "      <td>0</td>\n",
       "      <td>0</td>\n",
       "      <td>0.0</td>\n",
       "    </tr>\n",
       "    <tr>\n",
       "      <th>4</th>\n",
       "      <td>yale</td>\n",
       "      <td>3.848229</td>\n",
       "      <td>33.355673</td>\n",
       "      <td>2238.482192</td>\n",
       "      <td>0.0</td>\n",
       "      <td>2.051209e+06</td>\n",
       "      <td>0.0</td>\n",
       "      <td>2.051209e+06</td>\n",
       "      <td>US</td>\n",
       "      <td>0.027004</td>\n",
       "      <td>F</td>\n",
       "      <td>asian</td>\n",
       "      <td>0</td>\n",
       "      <td>0</td>\n",
       "      <td>0</td>\n",
       "      <td>0</td>\n",
       "      <td>3.8</td>\n",
       "      <td>0</td>\n",
       "      <td>0</td>\n",
       "      <td>0.0</td>\n",
       "    </tr>\n",
       "    <tr>\n",
       "      <th>5</th>\n",
       "      <td>yale</td>\n",
       "      <td>3.930000</td>\n",
       "      <td>34.000000</td>\n",
       "      <td>2238.482192</td>\n",
       "      <td>5.0</td>\n",
       "      <td>3.800000e+00</td>\n",
       "      <td>5.0</td>\n",
       "      <td>3.800000e+00</td>\n",
       "      <td>US</td>\n",
       "      <td>0.027004</td>\n",
       "      <td>F</td>\n",
       "      <td>caucasian</td>\n",
       "      <td>0</td>\n",
       "      <td>0</td>\n",
       "      <td>4</td>\n",
       "      <td>0</td>\n",
       "      <td>3.9</td>\n",
       "      <td>0</td>\n",
       "      <td>0</td>\n",
       "      <td>0.0</td>\n",
       "    </tr>\n",
       "    <tr>\n",
       "      <th>6</th>\n",
       "      <td>yale</td>\n",
       "      <td>4.000000</td>\n",
       "      <td>33.000000</td>\n",
       "      <td>2230.000000</td>\n",
       "      <td>8.0</td>\n",
       "      <td>4.500000e+00</td>\n",
       "      <td>8.0</td>\n",
       "      <td>4.500000e+00</td>\n",
       "      <td>US</td>\n",
       "      <td>0.000000</td>\n",
       "      <td>M</td>\n",
       "      <td>asian</td>\n",
       "      <td>0</td>\n",
       "      <td>0</td>\n",
       "      <td>0</td>\n",
       "      <td>0</td>\n",
       "      <td>4.0</td>\n",
       "      <td>0</td>\n",
       "      <td>0</td>\n",
       "      <td>0.0</td>\n",
       "    </tr>\n",
       "    <tr>\n",
       "      <th>7</th>\n",
       "      <td>yale</td>\n",
       "      <td>4.000000</td>\n",
       "      <td>35.000000</td>\n",
       "      <td>2310.000000</td>\n",
       "      <td>7.0</td>\n",
       "      <td>4.857143e+00</td>\n",
       "      <td>7.0</td>\n",
       "      <td>4.857143e+00</td>\n",
       "      <td>US</td>\n",
       "      <td>0.008333</td>\n",
       "      <td>F</td>\n",
       "      <td>caucasian</td>\n",
       "      <td>0</td>\n",
       "      <td>0</td>\n",
       "      <td>5</td>\n",
       "      <td>0</td>\n",
       "      <td>4.0</td>\n",
       "      <td>0</td>\n",
       "      <td>0</td>\n",
       "      <td>0.0</td>\n",
       "    </tr>\n",
       "    <tr>\n",
       "      <th>8</th>\n",
       "      <td>yale</td>\n",
       "      <td>3.848229</td>\n",
       "      <td>36.000000</td>\n",
       "      <td>2238.482192</td>\n",
       "      <td>0.0</td>\n",
       "      <td>2.051209e+06</td>\n",
       "      <td>0.0</td>\n",
       "      <td>2.051209e+06</td>\n",
       "      <td>US</td>\n",
       "      <td>0.027004</td>\n",
       "      <td>M</td>\n",
       "      <td>asian</td>\n",
       "      <td>0</td>\n",
       "      <td>0</td>\n",
       "      <td>0</td>\n",
       "      <td>1</td>\n",
       "      <td>3.8</td>\n",
       "      <td>0</td>\n",
       "      <td>0</td>\n",
       "      <td>0.0</td>\n",
       "    </tr>\n",
       "    <tr>\n",
       "      <th>9</th>\n",
       "      <td>yale</td>\n",
       "      <td>3.900000</td>\n",
       "      <td>33.355673</td>\n",
       "      <td>2260.000000</td>\n",
       "      <td>1.0</td>\n",
       "      <td>5.000000e+00</td>\n",
       "      <td>1.0</td>\n",
       "      <td>5.000000e+00</td>\n",
       "      <td>US</td>\n",
       "      <td>0.000000</td>\n",
       "      <td>M</td>\n",
       "      <td>asian</td>\n",
       "      <td>0</td>\n",
       "      <td>0</td>\n",
       "      <td>0</td>\n",
       "      <td>0</td>\n",
       "      <td>3.9</td>\n",
       "      <td>0</td>\n",
       "      <td>0</td>\n",
       "      <td>0.0</td>\n",
       "    </tr>\n",
       "  </tbody>\n",
       "</table>\n",
       "</div>"
      ],
      "text/plain": [
       "  school       gpa        act         sat1  ap_count       ap_mean  \\\n",
       "0   yale  3.848229  33.355673  2238.482192       0.0  2.051209e+06   \n",
       "1   yale  4.000000  33.355673  2350.000000       6.0  5.000000e+00   \n",
       "2   yale  4.000000  33.355673  2238.482192      12.0  4.666667e+00   \n",
       "3   yale  3.500000  33.355673  2320.000000       0.0  2.051209e+06   \n",
       "4   yale  3.848229  33.355673  2238.482192       0.0  2.051209e+06   \n",
       "5   yale  3.930000  34.000000  2238.482192       5.0  3.800000e+00   \n",
       "6   yale  4.000000  33.000000  2230.000000       8.0  4.500000e+00   \n",
       "7   yale  4.000000  35.000000  2310.000000       7.0  4.857143e+00   \n",
       "8   yale  3.848229  36.000000  2238.482192       0.0  2.051209e+06   \n",
       "9   yale  3.900000  33.355673  2260.000000       1.0  5.000000e+00   \n",
       "\n",
       "   sat2_count     sat2_mean country      rank gender  ethnicity  urm  \\\n",
       "0         0.0  2.051209e+06      US  0.027004   None       None    0   \n",
       "1         6.0  5.000000e+00      US  0.000000      M       None    0   \n",
       "2        12.0  4.666667e+00      US  0.027004      F      asian    0   \n",
       "3         0.0  2.051209e+06      US  0.000000      M     indian    0   \n",
       "4         0.0  2.051209e+06      US  0.027004      F      asian    0   \n",
       "5         5.0  3.800000e+00      US  0.027004      F  caucasian    0   \n",
       "6         8.0  4.500000e+00      US  0.000000      M      asian    0   \n",
       "7         7.0  4.857143e+00      US  0.008333      F  caucasian    0   \n",
       "8         0.0  2.051209e+06      US  0.027004      M      asian    0   \n",
       "9         1.0  5.000000e+00      US  0.000000      M      asian    0   \n",
       "\n",
       "   first_generation  ec_count  decision  gpa_round urmstr fg  rank_round  \n",
       "0                 0         0         0        3.8      0  0         0.0  \n",
       "1                 0         1         0        4.0      0  0         0.0  \n",
       "2                 0         0         0        4.0      0  0         0.0  \n",
       "3                 0         2         0        3.5      0  0         0.0  \n",
       "4                 0         0         0        3.8      0  0         0.0  \n",
       "5                 0         4         0        3.9      0  0         0.0  \n",
       "6                 0         0         0        4.0      0  0         0.0  \n",
       "7                 0         5         0        4.0      0  0         0.0  \n",
       "8                 0         0         1        3.8      0  0         0.0  \n",
       "9                 0         0         0        3.9      0  0         0.0  "
      ]
     },
     "execution_count": 66,
     "metadata": {},
     "output_type": "execute_result"
    }
   ],
   "source": [
    "df.head(10)\n",
    "# df['gpa'].unique()"
   ]
  },
  {
   "cell_type": "code",
   "execution_count": 49,
   "metadata": {},
   "outputs": [
    {
     "data": {
      "image/png": "[encoded data removed]",
      "text/plain": [
       "<matplotlib.figure.Figure at 0x1117b9748>"
      ]
     },
     "metadata": {},
     "output_type": "display_data"
    }
   ],
   "source": [
    "g = df.groupby(by = ['gpa_round'])['decision'].agg(['mean','count']).reset_index()\n",
    "plt.scatter(g['gpa_round'], g['mean'], s=g['count'], c = 'b', label = 'act')\n",
    "\n",
    "plt.xlim(3, 4.25)\n",
    "plt.ylim(.3, 1)\n",
    "plt.xlabel('GPA')\n",
    "plt.ylabel('Percent Acceptance')\n",
    "plt.title('GPA vs. Acceptance')\n",
    "plt.show()"
   ]
  },
  {
   "cell_type": "code",
   "execution_count": 50,
   "metadata": {},
   "outputs": [
    {
     "data": {
      "image/png": "[encoded data removed]",
      "text/plain": [
       "<matplotlib.figure.Figure at 0x1117b95c0>"
      ]
     },
     "metadata": {},
     "output_type": "display_data"
    }
   ],
   "source": [
    "g = df.groupby(by = ['sat2_count'])['decision'].agg(['mean','count']).reset_index()\n",
    "plt.scatter(g['sat2_count'], g['mean'], s=g['count'], c = 'b', label = 'act')\n",
    "\n",
    "plt.xlim(0, 10)\n",
    "plt.ylim(.3, 1)\n",
    "plt.xlabel('SAT2 Count')\n",
    "plt.ylabel('Percent Acceptance')\n",
    "plt.title('SAT2 Count vs. Acceptance')\n",
    "plt.show()"
   ]
  },
  {
   "cell_type": "code",
   "execution_count": 52,
   "metadata": {},
   "outputs": [
    {
     "data": {
      "image/png": "[encoded data removed]",
      "text/plain": [
       "<matplotlib.figure.Figure at 0x1117f7160>"
      ]
     },
     "metadata": {},
     "output_type": "display_data"
    }
   ],
   "source": [
    "g = df.groupby(by = ['ethnicity'])['decision'].agg(['mean','count']).reset_index()\n",
    "plt.scatter(g['ethnicity'], g['mean'], s=g['count'], c = 'b', label = 'act')\n",
    "\n",
    "plt.ylim(.3, 1)\n",
    "plt.xlabel('Ethnicity')\n",
    "plt.ylabel('Percent Acceptance')\n",
    "plt.title('Ethnicity vs. Acceptance')\n",
    "plt.show()"
   ]
  },
  {
   "cell_type": "code",
   "execution_count": 54,
   "metadata": {},
   "outputs": [
    {
     "data": {
      "image/png": "[encoded data removed]",
      "text/plain": [
       "<matplotlib.figure.Figure at 0x1108aabe0>"
      ]
     },
     "metadata": {},
     "output_type": "display_data"
    }
   ],
   "source": [
    "df['urmstr'] = df['urm'].astype(str)\n",
    "g = df.groupby(by = ['urmstr'])['decision'].agg(['mean','count']).reset_index()\n",
    "plt.scatter(g['urmstr'], g['mean'], s=g['count'], c = 'b', label = 'act')\n",
    "\n",
    "# plt.xlim(0, 10)\n",
    "plt.ylim(.3, 1)\n",
    "plt.xlabel('urm')\n",
    "plt.ylabel('Percent Acceptance')\n",
    "plt.title('urm vs. Acceptance')\n",
    "plt.show()"
   ]
  },
  {
   "cell_type": "code",
   "execution_count": 58,
   "metadata": {},
   "outputs": [
    {
     "data": {
      "image/png": "[encoded data removed]",
      "text/plain": [
       "<matplotlib.figure.Figure at 0x11158b780>"
      ]
     },
     "metadata": {},
     "output_type": "display_data"
    }
   ],
   "source": [
    "df['fg'] = df['first_generation'].astype(str)\n",
    "g = df.groupby(by = ['fg'])['decision'].agg(['mean','count']).reset_index()\n",
    "plt.scatter(g['fg'], g['mean'], s=g['count'], c = 'b', label = 'act')\n",
    "\n",
    "# plt.xlim(0, 10)\n",
    "plt.ylim(.3, 1)\n",
    "plt.xlabel('First generation')\n",
    "plt.ylabel('Percent Acceptance')\n",
    "plt.title('First_generation vs. Acceptance')\n",
    "plt.show()"
   ]
  },
  {
   "cell_type": "code",
   "execution_count": 60,
   "metadata": {},
   "outputs": [
    {
     "data": {
      "image/png": "[encoded data removed]",
      "text/plain": [
       "<matplotlib.figure.Figure at 0x111536908>"
      ]
     },
     "metadata": {},
     "output_type": "display_data"
    }
   ],
   "source": [
    "g = df.groupby(by = ['gender'])['decision'].agg(['mean','count']).reset_index()\n",
    "plt.scatter(g['gender'], g['mean'], s=g['count'], c = 'b', label = 'act')\n",
    "\n",
    "plt.ylim(.3, 1)\n",
    "plt.xlabel('Gender')\n",
    "plt.ylabel('Percent Acceptance')\n",
    "plt.title('Gender vs. Acceptance')\n",
    "plt.show()"
   ]
  },
  {
   "cell_type": "code",
   "execution_count": 62,
   "metadata": {},
   "outputs": [
    {
     "data": {
      "image/png": "[encoded data removed]",
      "text/plain": [
       "<matplotlib.figure.Figure at 0x111225e48>"
      ]
     },
     "metadata": {},
     "output_type": "display_data"
    }
   ],
   "source": [
    "df['rank_round'] = df['rank'].apply(decround)\n",
    "g = df.groupby(by = ['rank_round'])['decision'].agg(['mean','count']).reset_index()\n",
    "plt.scatter(g['rank_round'], g['mean'], s=g['count'], c = 'b', label = 'act')\n",
    "\n",
    "plt.xlim(0, .5)\n",
    "plt.ylim(.3, 1)\n",
    "plt.xlabel('Rank')\n",
    "plt.ylabel('Percent Acceptance')\n",
    "plt.title('Rank vs. Acceptance')\n",
    "plt.show()"
   ]
  },
  {
   "cell_type": "code",
   "execution_count": null,
   "metadata": {},
   "outputs": [],
   "source": [
    "g = df.groupby(by = ['rank_round'])['decision'].agg(['mean','count']).reset_index()\n",
    "plt.scatter(g['rank_round'], g['mean'], s=g['count'], c = 'b', label = 'act')\n",
    "\n",
    "plt.xlim(0, .5)\n",
    "plt.ylim(.3, 1)\n",
    "plt.xlabel('Rank')\n",
    "plt.ylabel('Percent Acceptance')\n",
    "plt.title('Rank vs. Acceptance')\n",
    "plt.show()"
   ]
  },
  {
   "cell_type": "code",
   "execution_count": null,
   "metadata": {},
   "outputs": [],
   "source": [
    "bins = np.linspace(1800, 2400, 12)\n",
    "plt.hist(acc['sat1'], bins, alpha=0.5, label='acc')\n",
    "plt.hist(rej['sat1'], bins, alpha=0.5, label='rej')\n",
    "plt.legend(loc='upper right')\n",
    "plt.show()"
   ]
  },
  {
   "cell_type": "code",
   "execution_count": null,
   "metadata": {},
   "outputs": [],
   "source": [
    "# plt.figure()\n",
    "df.hist(column = 'act')\n",
    "df.hist(column = 'sat1')\n",
    "df.hist(column = 'gpa')\n",
    "df.hist(column = 'rank')"
   ]
  },
  {
   "cell_type": "code",
   "execution_count": null,
   "metadata": {},
   "outputs": [],
   "source": [
    "df.plot.scatter(x='ec_count', y='decision')"
   ]
  },
  {
   "cell_type": "code",
   "execution_count": null,
   "metadata": {},
   "outputs": [],
   "source": []
  }
 ],
 "metadata": {
  "kernelspec": {
   "display_name": "Python 3",
   "language": "python",
   "name": "python3"
  },
  "language_info": {
   "codemirror_mode": {
    "name": "ipython",
    "version": 3
   },
   "file_extension": ".py",
   "mimetype": "text/x-python",
   "name": "python",
   "nbconvert_exporter": "python",
   "pygments_lexer": "ipython3",
   "version": "3.6.3"
  }
 },
 "nbformat": 4,
 "nbformat_minor": 2
}
